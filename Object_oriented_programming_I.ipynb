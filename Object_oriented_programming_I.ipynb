{
  "nbformat": 4,
  "nbformat_minor": 0,
  "metadata": {
    "colab": {
      "provenance": [],
      "authorship_tag": "ABX9TyMmiV9GratO5jWbbvg8D5Xv",
      "include_colab_link": true
    },
    "kernelspec": {
      "name": "python3",
      "display_name": "Python 3"
    },
    "language_info": {
      "name": "python"
    }
  },
  "cells": [
    {
      "cell_type": "markdown",
      "metadata": {
        "id": "view-in-github",
        "colab_type": "text"
      },
      "source": [
        "<a href=\"https://colab.research.google.com/github/KSharif/Python/blob/main/Object_oriented_programming_I.ipynb\" target=\"_parent\"><img src=\"https://colab.research.google.com/assets/colab-badge.svg\" alt=\"Open In Colab\"/></a>"
      ]
    },
    {
      "cell_type": "markdown",
      "source": [
        "Classes and Objects\n",
        "\n",
        "\n",
        "Class: A class is a blueprint for creating objects (a particular data structure). Classes encapsulate data for the object and methods to manipulate that data.\n",
        "\n",
        "Object: An object is an instance of a class. When a class is defined, no memory is allocated until an object is created.\n",
        "\n"
      ],
      "metadata": {
        "id": "1sFoqnUaMvtr"
      }
    },
    {
      "cell_type": "markdown",
      "source": [
        "Class Attributes and Instance Attributes\n",
        "\n",
        "\n",
        "Class Attributes: These are attributes shared by all instances of the class.\n",
        "\n",
        "Instance Attributes: These are attributes unique to each instance of a class.\n"
      ],
      "metadata": {
        "id": "err8UOWRR6sQ"
      }
    },
    {
      "cell_type": "code",
      "source": [
        "# Define a class named 'Dog'\n",
        "class Dog:\n",
        "    # The __init__ method initializes an object's attributes\n",
        "    def __init__(self, name, breed):\n",
        "        self.name = name   # Attribute name\n",
        "        self.breed = breed # Attribute breed\n",
        "\n",
        "    # Method to make the dog bark\n",
        "    def bark(self):\n",
        "        return f\"{self.name} says Woof!\"\n",
        "\n",
        "# Create an object of the class 'Dog'\n",
        "my_dog = Dog(\"Buddy\", \"Golden Retriever\")\n",
        "\n",
        "# Access the object's attributes and methods\n",
        "print(my_dog.name)    # Output: Buddy\n",
        "print(my_dog.breed)   # Output: Golden Retriever\n",
        "print(my_dog.bark())  # Output: Buddy says Woof!\n"
      ],
      "metadata": {
        "id": "ucT26qhNM4xe"
      },
      "execution_count": null,
      "outputs": []
    },
    {
      "cell_type": "code",
      "source": [
        "class Dog:\n",
        "    # Class attribute\n",
        "    species = \"Canis familiaris\"\n",
        "\n",
        "    def __init__(self, name, breed):\n",
        "        # Instance attributes\n",
        "        self.name = name\n",
        "        self.breed = breed\n",
        "\n",
        "# Create two objects of the class 'Dog'\n",
        "dog1 = Dog(\"Buddy\", \"Golden Retriever\")\n",
        "dog2 = Dog(\"Max\", \"Beagle\")\n",
        "\n",
        "# Access class attribute\n",
        "print(dog1.species)  # Output: Canis familiaris\n",
        "print(dog2.species)  # Output: Canis familiaris\n",
        "\n",
        "# Access instance attributes\n",
        "print(dog1.name)     # Output: Buddy\n",
        "print(dog2.name)     # Output: Max\n"
      ],
      "metadata": {
        "id": "8L5IbZDFSGjE"
      },
      "execution_count": null,
      "outputs": []
    },
    {
      "cell_type": "markdown",
      "source": [
        "Problem:\n",
        "\n",
        "Create a car class with attributes like brand and model. Then create an instance of this class"
      ],
      "metadata": {
        "id": "rJTRyET0Snkx"
      }
    },
    {
      "source": [
        "class Car: # Define a class named 'Car'\n",
        "    def __init__(self, brand, model): # Fix: 'Model' to 'model' for consistency\n",
        "        self.brand = brand\n",
        "        self.model = model\n",
        "\n",
        "# Create an instance of the 'Car' class outside the class definition\n",
        "my_car = Car(\"Toyota\", \"Corolla\")\n",
        "print(my_car.brand)\n",
        "print(my_car.model)\n",
        "\n",
        "\n",
        "my_new_car = Car(\"Honda\", \"CRV\")\n",
        "print(my_new_car.model)"
      ],
      "cell_type": "code",
      "metadata": {
        "colab": {
          "base_uri": "https://localhost:8080/"
        },
        "id": "H6iBx6KDQnsN",
        "outputId": "f45ae091-c0ef-48c6-dd2c-8e862387757a"
      },
      "execution_count": 11,
      "outputs": [
        {
          "output_type": "stream",
          "name": "stdout",
          "text": [
            "Toyota\n",
            "Corolla\n",
            "CRV\n"
          ]
        }
      ]
    },
    {
      "cell_type": "markdown",
      "source": [
        "Methods in Classes\n",
        "\n",
        "\n",
        "Instance Methods: These are the most common type of methods. They can access and modify the object’s attributes.\n",
        "\n",
        "Class Methods: These are bound to the class, not the instance. They can modify a class's state that applies across all instances.\n",
        "\n",
        "Static Methods: These do not modify object or class state and are self-contained, behaving like regular functions."
      ],
      "metadata": {
        "id": "5AmCIlIUSbcv"
      }
    },
    {
      "source": [
        "class Car: # Define a class named 'Car'\n",
        "    def __init__(self, brand, model): # Fix: 'Model' to 'model' for consistency\n",
        "        self.brand = brand\n",
        "        self.model = model\n",
        "\n",
        "    def full_name(self):\n",
        "      return f\"{self.brand}{self.model}\"\n",
        "\n",
        "\n",
        "# Create an instance of the 'Car' class outside the class definition\n",
        "my_car = Car(\"Toyota\", \"Corolla\")\n",
        "print(my_car.brand)\n",
        "print(my_car.model)\n",
        "# here we are calling the method\n",
        "print(my_car.full_name()) # because it is method\n",
        "\n",
        "my_new_car = Car(\"Honda\", \"CRV\")\n",
        "print(my_new_car.model)"
      ],
      "cell_type": "code",
      "metadata": {
        "colab": {
          "base_uri": "https://localhost:8080/"
        },
        "outputId": "dea96e86-4854-45b0-c1a4-07796a22079f",
        "id": "XMiQ43IIS7XJ"
      },
      "execution_count": 14,
      "outputs": [
        {
          "output_type": "stream",
          "name": "stdout",
          "text": [
            "Toyota\n",
            "Corolla\n",
            "ToyotaCorolla\n",
            "CRV\n"
          ]
        }
      ]
    },
    {
      "cell_type": "markdown",
      "source": [
        " Inheritance\n",
        "\n",
        "\n",
        "Inheritance allows a class to inherit attributes and methods from another class."
      ],
      "metadata": {
        "id": "OJ3F0BBMUEuL"
      }
    },
    {
      "cell_type": "code",
      "source": [
        "# Parent class\n",
        "class Animal:\n",
        "    def __init__(self, name):\n",
        "        self.name = name\n",
        "\n",
        "    def eat(self):\n",
        "        return f\"{self.name} is eating\"\n",
        "\n",
        "# Child class inherits from Animal\n",
        "class Dog(Animal):\n",
        "    def bark(self):\n",
        "        return f\"{self.name} says Woof!\"\n",
        "\n",
        "# Create an object of Dog\n",
        "dog = Dog(\"Buddy\")\n",
        "print(dog.eat())   # Output: Buddy is eating\n",
        "print(dog.bark())  # Output: Buddy says Woof!\n"
      ],
      "metadata": {
        "id": "4UO3jot7Ubf7"
      },
      "execution_count": null,
      "outputs": []
    },
    {
      "cell_type": "markdown",
      "source": [
        "*Problem*\n",
        "\n",
        "Create an electric car that inherits from the car class and has an additional attritube battery_Size"
      ],
      "metadata": {
        "id": "S0MvSoQOUIav"
      }
    },
    {
      "source": [
        "class Car: # Define a class named 'Car'\n",
        "    def __init__(self, brand, model): # Fix: 'Model' to 'model' for consistency\n",
        "        self.brand = brand\n",
        "        self.model = model\n",
        "\n",
        "    def full_name(self):\n",
        "      return f\"{self.brand}{self.model}\"\n",
        "\n",
        "class ElectricCar(Car):\n",
        "  def __init__(self, brand, model, battery_size):\n",
        "    super().__init__(brand,model)\n",
        "    self.battery_size = battery_size\n",
        "\n",
        "my_tesla = ElectricCar(\"Tesla\", \"Model S\", \"85km/hr\")\n",
        "print(my_tesla.model)\n",
        "print(my_tesla.full_name()) # Call the correct method name 'full_name'\n",
        "\n",
        "# Create an instance of the 'Car' class outside the class definition\n",
        "my_car = Car(\"Toyota\", \"Corolla\")\n",
        "print(my_car.brand)\n",
        "print(my_car.model)\n",
        "# here we are calling the method\n",
        "print(my_car.full_name()) # because it is method\n",
        "\n",
        "my_new_car = Car(\"Honda\", \"CRV\")\n",
        "print(my_new_car.model)"
      ],
      "cell_type": "code",
      "metadata": {
        "colab": {
          "base_uri": "https://localhost:8080/"
        },
        "id": "9BUqXKpaN6Ks",
        "outputId": "249354db-0ee7-4498-f697-7b3f0125ed00"
      },
      "execution_count": 20,
      "outputs": [
        {
          "output_type": "stream",
          "name": "stdout",
          "text": [
            "Model S\n",
            "TeslaModel S\n",
            "Toyota\n",
            "Corolla\n",
            "ToyotaCorolla\n",
            "CRV\n"
          ]
        }
      ]
    },
    {
      "cell_type": "markdown",
      "source": [
        " Encapsulation\n",
        "\n",
        "\n",
        "Encapsulation hides the internal state of the object and only exposes a public interface. This is done using private attributes and methods, which are not accessible from outside the class."
      ],
      "metadata": {
        "id": "wD-fAdVSOies"
      }
    },
    {
      "cell_type": "code",
      "source": [
        "class Dog:\n",
        "    def __init__(self, name, breed):\n",
        "        self.__name = name    # Private attribute\n",
        "        self.__breed = breed  # Private attribute\n",
        "\n",
        "    def get_name(self):  # Public method\n",
        "        return self.__name\n",
        "\n",
        "    def set_name(self, name):  # Public method\n",
        "        self.__name = name\n",
        "\n",
        "# Create an object\n",
        "dog = Dog(\"Buddy\", \"Golden Retriever\")\n",
        "\n",
        "# Accessing private attributes directly will raise an error\n",
        "# print(dog.__name)  # AttributeError\n",
        "\n",
        "# Use public methods to access private attributes\n",
        "print(dog.get_name())  # Output: Buddy\n"
      ],
      "metadata": {
        "id": "z659GmjnOjoc"
      },
      "execution_count": null,
      "outputs": []
    },
    {
      "cell_type": "markdown",
      "source": [
        "PROBLEM\n",
        "\n",
        "Modify the car class to encapsulate the brand attritube, making it private, and provide a getter method for it."
      ],
      "metadata": {
        "id": "i3R9qNG5Ondf"
      }
    },
    {
      "source": [
        "class Car:\n",
        "\n",
        "  def __init__(self, __brand, __model):\n",
        "    self.__brand = __brand #private attributes\n",
        "    self.__model = __model\n",
        "\n",
        "  def get_brand(self):\n",
        "    return self.__brand\n",
        "\n",
        "  def get_model(self):\n",
        "    return self.__model\n",
        "\n",
        "class ElectricCar(Car):\n",
        "\n",
        "  def __init__(self, brand, model, batterysize): # Add a space between 'def' and '__init__'\n",
        "    super().__init__(brand, model)\n",
        "    self.batterysize = batterysize\n",
        "\n",
        "\n",
        "my_electricCar = ElectricCar(\"tesla\", \"model S\", \"83km/hr\")\n",
        "print(my_electricCar.get_model())\n",
        " # Use get_model() to access private attribute\n",
        "print(my_electricCar.get_brand())\n",
        "print(my_electricCar.batterysize)"
      ],
      "cell_type": "code",
      "metadata": {
        "colab": {
          "base_uri": "https://localhost:8080/"
        },
        "id": "X-LJ9dQyX7p8",
        "outputId": "9d6996c4-2078-415a-d654-3bcaef7e6c48"
      },
      "execution_count": 20,
      "outputs": [
        {
          "output_type": "stream",
          "name": "stdout",
          "text": [
            "model S\n",
            "tesla\n",
            "83km/hr\n"
          ]
        }
      ]
    },
    {
      "cell_type": "markdown",
      "source": [
        "Polymorphism\n",
        "\n",
        "\n",
        "Polymorphism allows methods to do different things based on the object it is acting upon, even if the method name is the same."
      ],
      "metadata": {
        "id": "fHDtX0kbbPBg"
      }
    },
    {
      "cell_type": "code",
      "source": [
        "class Cat:\n",
        "    def sound(self):\n",
        "        return \"Meow\"\n",
        "\n",
        "class Dog:\n",
        "    def sound(self):\n",
        "        return \"Woof\"\n",
        "\n",
        "# Function that takes an animal object\n",
        "def make_sound(animal):\n",
        "    print(animal.sound())\n",
        "\n",
        "cat = Cat()\n",
        "dog = Dog()\n",
        "\n",
        "make_sound(cat)  # Output: Meow\n",
        "make_sound(dog)  # Output: Woof\n"
      ],
      "metadata": {
        "id": "FldZQacBbQHp"
      },
      "execution_count": null,
      "outputs": []
    },
    {
      "cell_type": "markdown",
      "source": [
        "Problem:\n",
        "\n",
        "Demostrate polymorphism by defining a method_fuel in both car and elctricCar Classes, but with different behaviour"
      ],
      "metadata": {
        "id": "tx7070r1bT8K"
      }
    },
    {
      "cell_type": "code",
      "source": [],
      "metadata": {
        "id": "EGqgJmc5blPZ"
      },
      "execution_count": null,
      "outputs": []
    },
    {
      "source": [
        "class Car:\n",
        "\n",
        "  def __init__(self, __brand, __model):\n",
        "    self.__brand = __brand #private attributes\n",
        "    self.__model = __model\n",
        "\n",
        "  def get_brand(self):\n",
        "    return self.__brand\n",
        "\n",
        "  def get_model(self):\n",
        "    return self.__model\n",
        "\n",
        "  def fuel_type(self):\n",
        "    return \"Patrol\"\n",
        "\n",
        "class ElectricCar(Car):\n",
        "\n",
        "  def __init__(self, brand, model, batterysize): # Add a space between 'def' and '__init__'\n",
        "    super().__init__(brand, model)\n",
        "    self.batterysize = batterysize\n",
        "\n",
        "  def fuel_type(self):\n",
        "    return \"Electric Charge\"\n",
        "\n",
        "\n",
        "my_electricCar = ElectricCar(\"tesla\", \"model S\", \"83km/hr\")\n",
        "print(my_electricCar.get_model())\n",
        " # Use get_model() to access private attribute\n",
        "print(my_electricCar.get_brand())\n",
        "print(my_electricCar.batterysize)\n",
        "print(my_electricCar.fuel_type())\n",
        "\n",
        "\n",
        "safari = Car(\"tata\" , \"safari\")\n",
        "print(safari.fuel_type())"
      ],
      "cell_type": "code",
      "metadata": {
        "colab": {
          "base_uri": "https://localhost:8080/"
        },
        "outputId": "7d808982-d978-485f-83f4-0f18395bc3ea",
        "id": "kyMIw2cSclPg"
      },
      "execution_count": 24,
      "outputs": [
        {
          "output_type": "stream",
          "name": "stdout",
          "text": [
            "model S\n",
            "tesla\n",
            "83km/hr\n",
            "Electric Charge\n",
            "Patrol\n"
          ]
        }
      ]
    },
    {
      "cell_type": "markdown",
      "source": [
        "Class Varaiable examples\n",
        "\n",
        "add a class varaiable to Car that keeps the track of the number of car created"
      ],
      "metadata": {
        "id": "SgywDu8We3H9"
      }
    },
    {
      "source": [
        "class Car:\n",
        "\n",
        "  total_car = 0\n",
        "\n",
        "  def __init__(self, __brand, __model):\n",
        "    self.__brand = __brand #private attributes\n",
        "    self.__model = __model\n",
        "    Car.total_car += 1\n",
        "\n",
        "  def get_brand(self):\n",
        "    return self.__brand\n",
        "\n",
        "  def get_model(self):\n",
        "    return self.__model\n",
        "\n",
        "  def fuel_type(self):\n",
        "    return \"Patrol\"\n",
        "\n",
        "class ElectricCar(Car):\n",
        "\n",
        "  def __init__(self, brand, model, batterysize): # Add a space between 'def' and '__init__'\n",
        "    super().__init__(brand, model)\n",
        "    self.batterysize = batterysize\n",
        "\n",
        "  def fuel_type(self):\n",
        "    return \"Electric Charge\"\n",
        "\n",
        "\n",
        "my_electricCar = ElectricCar(\"tesla\", \"model S\", \"83km/hr\")\n",
        "print(my_electricCar.get_model())\n",
        " # Use get_model() to access private attribute\n",
        "print(my_electricCar.get_brand())\n",
        "print(my_electricCar.batterysize)\n",
        "print(my_electricCar.fuel_type())\n",
        "\n",
        "\n",
        "safari = Car(\"tata\" , \"safari\")\n",
        "print(safari.fuel_type())\n",
        "\n",
        "Car(\"Toyota\", \"Carmy\")\n",
        "Car(\"Honda\", \"Accord\")\n",
        "\n",
        "print(Car.total_car)\n"
      ],
      "cell_type": "code",
      "metadata": {
        "colab": {
          "base_uri": "https://localhost:8080/"
        },
        "outputId": "7ae181fb-856d-4698-bc5d-6bd5248dd35b",
        "id": "gVs1S2eqfMFy"
      },
      "execution_count": 42,
      "outputs": [
        {
          "output_type": "stream",
          "name": "stdout",
          "text": [
            "model S\n",
            "tesla\n",
            "83km/hr\n",
            "Electric Charge\n",
            "Patrol\n",
            "4\n"
          ]
        }
      ]
    },
    {
      "cell_type": "markdown",
      "source": [
        "Static Method"
      ],
      "metadata": {
        "id": "k75jBT8VgR6m"
      }
    },
    {
      "cell_type": "markdown",
      "source": [
        "Static methods are defined using the @staticmethod decorator above the method definition. This decorator tells Python that the method should be treated as a static method."
      ],
      "metadata": {
        "id": "wi05S4_mjd4G"
      }
    },
    {
      "cell_type": "code",
      "source": [
        "class MathOperations:\n",
        "    @staticmethod\n",
        "    def add(x, y):\n",
        "        return x + y\n",
        "\n",
        "    @staticmethod\n",
        "    def multiply(x, y):\n",
        "        return x * y\n",
        "\n",
        "# Call static methods directly from the class\n",
        "result_add = MathOperations.add(5, 3)\n",
        "result_multiply = MathOperations.multiply(4, 6)\n",
        "\n",
        "print(result_add)       # Output: 8\n",
        "print(result_multiply)  # Output: 24\n"
      ],
      "metadata": {
        "colab": {
          "base_uri": "https://localhost:8080/"
        },
        "id": "e-gMXVWTjkMT",
        "outputId": "6252d173-a4e2-466c-a72e-2b3fb0c57dc9"
      },
      "execution_count": 31,
      "outputs": [
        {
          "output_type": "stream",
          "name": "stdout",
          "text": [
            "8\n",
            "24\n"
          ]
        }
      ]
    },
    {
      "cell_type": "markdown",
      "source": [
        "In Python, a static method is a method that belongs to a class rather than an instance of a class. Unlike instance methods, a static method does not require access to the instance (self) or class (cls) itself. Static methods are self-contained and don't modify class or instance state. They are typically used when some functionality is related to the class but doesn't need to access or modify the class or its instances."
      ],
      "metadata": {
        "id": "HrZT_i4Wjh5N"
      }
    },
    {
      "cell_type": "markdown",
      "source": [
        "Add a static Method to the Car class that returns a general description of a car."
      ],
      "metadata": {
        "id": "DB4BuinJgVLe"
      }
    },
    {
      "source": [
        "class Car:\n",
        "\n",
        "  total_car = 0\n",
        "\n",
        "  def __init__(self, __brand, __model):\n",
        "    self.__brand = __brand #private attributes\n",
        "    self.__model = __model\n",
        "    Car.total_car += 1\n",
        "\n",
        "  def get_brand(self):\n",
        "    return self.__brand\n",
        "\n",
        "  def get_model(self):\n",
        "    return self.__model\n",
        "\n",
        "  def fuel_type(self):\n",
        "    return \"Patrol\"\n",
        "\n",
        "  @staticmethod\n",
        "  def general_desciption():\n",
        "    return \"Cars are means of transport\"\n",
        "\n",
        "class ElectricCar(Car):\n",
        "\n",
        "  def __init__(self, brand, model, batterysize): # Add a space between 'def' and '__init__'\n",
        "    super().__init__(brand, model)\n",
        "    self.batterysize = batterysize\n",
        "\n",
        "  def fuel_type(self):\n",
        "    return \"Electric Charge\"\n",
        "\n",
        "\n",
        "my_electricCar = ElectricCar(\"tesla\", \"model S\", \"83km/hr\")\n",
        "print(my_electricCar.get_model())\n",
        " # Use get_model() to access private attribute\n",
        "print(my_electricCar.get_brand())\n",
        "print(my_electricCar.batterysize)\n",
        "print(my_electricCar.fuel_type())\n",
        "\n",
        "\n",
        "safari = Car(\"tata\" , \"safari\")\n",
        "print(safari.fuel_type())\n",
        "\n",
        "Car(\"Toyota\", \"Carmy\")\n",
        "Car(\"Honda\", \"Accord\")\n",
        "\n",
        "print(Car.total_car)\n",
        "print(Car.general_desciption())"
      ],
      "cell_type": "code",
      "metadata": {
        "id": "ZVeUiBkIh6Dy"
      },
      "execution_count": null,
      "outputs": []
    },
    {
      "source": [
        "class Car:\n",
        "\n",
        "  total_car = 0\n",
        "\n",
        "  def __init__(self, __brand, __model):\n",
        "    self.__brand = __brand #private attributes\n",
        "    self.__model = __model\n",
        "    Car.total_car += 1\n",
        "\n",
        "  def get_brand(self):\n",
        "    return self.__brand\n",
        "\n",
        "  def get_model(self):\n",
        "    return self.__model\n",
        "\n",
        "  def fuel_type(self):\n",
        "    return \"Patrol\"\n",
        "\n",
        "  @staticmethod\n",
        "  def general_desciption():\n",
        "    return \"Cars are means of transport\"\n",
        "\n",
        "class ElectricCar(Car):\n",
        "\n",
        "  def __init__(self, brand, model, batterysize): # Add a space between 'def' and '__init__'\n",
        "    super().__init__(brand, model)\n",
        "    self.batterysize = batterysize\n",
        "\n",
        "  def fuel_type(self):\n",
        "    return \"Electric Charge\"\n",
        "\n",
        "\n",
        "my_electricCar = ElectricCar(\"tesla\", \"model S\", \"83km/hr\")\n",
        "print(my_electricCar.get_model())\n",
        " # Use get_model() to access private attribute\n",
        "print(my_electricCar.get_brand())\n",
        "print(my_electricCar.batterysize)\n",
        "print(my_electricCar.fuel_type())\n",
        "\n",
        "\n",
        "safari = Car(\"tata\" , \"safari\")\n",
        "print(safari.fuel_type())\n",
        "\n",
        "Car(\"Toyota\", \"Carmy\")\n",
        "Car(\"Honda\", \"Accord\")\n",
        "\n",
        "print(Car.total_car)\n",
        "# Call static methods directly from the class\n",
        "print(Car.general_desciption()) # Fix the typo here"
      ],
      "cell_type": "code",
      "metadata": {
        "colab": {
          "base_uri": "https://localhost:8080/"
        },
        "id": "4a5J6P4tkPq4",
        "outputId": "e603ba53-1aaf-43b1-af13-f654f7d4165b"
      },
      "execution_count": 34,
      "outputs": [
        {
          "output_type": "stream",
          "name": "stdout",
          "text": [
            "model S\n",
            "tesla\n",
            "83km/hr\n",
            "Electric Charge\n",
            "Patrol\n",
            "4\n",
            "Cars are means of transport\n"
          ]
        }
      ]
    },
    {
      "cell_type": "markdown",
      "source": [
        "Property Decorators"
      ],
      "metadata": {
        "id": "qR5OzO4DnUHJ"
      }
    },
    {
      "cell_type": "markdown",
      "source": [
        "Problem\n",
        "\n",
        "use a proeperty decorator in the class to make the model attribute read only"
      ],
      "metadata": {
        "id": "1nKB46_DnXVv"
      }
    },
    {
      "cell_type": "code",
      "source": [],
      "metadata": {
        "id": "4ATn8Wr1kYHP"
      },
      "execution_count": 35,
      "outputs": []
    },
    {
      "source": [
        "class Car:\n",
        "\n",
        "  total_car = 0\n",
        "\n",
        "  def __init__(self, __brand, __model):\n",
        "    self.__brand = __brand #private attributes\n",
        "    self.__model = __model\n",
        "    Car.total_car += 1\n",
        "\n",
        "  def get_brand(self):\n",
        "    return self.__brand\n",
        "\n",
        "  @property\n",
        "  def get_model(self):\n",
        "    return self.__model\n",
        "\n",
        "  def fuel_type(self):\n",
        "    return \"Patrol\"\n",
        "\n",
        "  @staticmethod\n",
        "  def general_desciption():\n",
        "    return \"Cars are means of transport\"\n",
        "\n",
        "class ElectricCar(Car):\n",
        "\n",
        "  def __init__(self, brand, model, batterysize): # Add a space between 'def' and '__init__'\n",
        "    super().__init__(brand, model)\n",
        "    self.batterysize = batterysize\n",
        "\n",
        "  def fuel_type(self):\n",
        "    return \"Electric Charge\"\n",
        "\n",
        "\n",
        "my_electricCar = ElectricCar(\"tesla\", \"model S\", \"83km/hr\")\n",
        "#print(my_electricCar.get_model())\n",
        "\n",
        "# we cannot accedd the method get_model (), as we get include the property decortors in the method which donot allow the access of the varaible.\n",
        "\n",
        "print(\"#--------------------------------------------------\")\n",
        "\n",
        "# Access the model using the property\n",
        "print(my_electricCar.get_model)\n",
        "\n",
        "print(\"#--------------------------------------------------\")\n",
        "\n",
        " # Use get_model() to access private attribute\n",
        "print(my_electricCar.get_brand())\n",
        "print(my_electricCar.batterysize)\n",
        "print(my_electricCar.fuel_type())\n",
        "\n",
        "\n",
        "safari = Car(\"tata\" , \"safari\")\n",
        "print(safari.fuel_type())\n",
        "\n",
        "Car(\"Toyota\", \"Carmy\")\n",
        "Car(\"Honda\", \"Accord\")\n",
        "\n",
        "print(Car.total_car)\n",
        "# Call static methods directly from the class\n",
        "print(Car.general_desciption()) # Fix the typo here"
      ],
      "cell_type": "code",
      "metadata": {
        "colab": {
          "base_uri": "https://localhost:8080/"
        },
        "id": "C7t1TgJvq0w5",
        "outputId": "cb96de81-0c18-4384-bf77-0fa3eed0aeac"
      },
      "execution_count": 40,
      "outputs": [
        {
          "output_type": "stream",
          "name": "stdout",
          "text": [
            "#--------------------------------------------------\n",
            "model S\n",
            "#--------------------------------------------------\n",
            "tesla\n",
            "83km/hr\n",
            "Electric Charge\n",
            "Patrol\n",
            "4\n",
            "Cars are means of transport\n"
          ]
        }
      ]
    },
    {
      "cell_type": "markdown",
      "source": [
        "Class Inheritance and isinstance() Function\n",
        "\n",
        "\n",
        "Problem:\n",
        "\n",
        "Demonstrate the use of isinstance() to check if my_tesla is an instance of Car and ElectricCar."
      ],
      "metadata": {
        "id": "N1dxHnfirbuY"
      }
    },
    {
      "cell_type": "code",
      "source": [],
      "metadata": {
        "id": "iBIkNCYcruAQ"
      },
      "execution_count": null,
      "outputs": []
    },
    {
      "source": [
        "class Car:\n",
        "\n",
        "  total_car = 0\n",
        "\n",
        "  def __init__(self, __brand, __model):\n",
        "    self.__brand = __brand #private attributes\n",
        "    self.__model = __model\n",
        "    Car.total_car += 1\n",
        "\n",
        "  def get_brand(self):\n",
        "    return self.__brand\n",
        "\n",
        "  @property\n",
        "  def get_model(self):\n",
        "    return self.__model\n",
        "\n",
        "  def fuel_type(self):\n",
        "    return \"Patrol\"\n",
        "\n",
        "  @staticmethod\n",
        "  def general_desciption():\n",
        "    return \"Cars are means of transport\"\n",
        "\n",
        "class ElectricCar(Car):\n",
        "\n",
        "  def __init__(self, brand, model, batterysize): # Add a space between 'def' and '__init__'\n",
        "    super().__init__(brand, model)\n",
        "    self.batterysize = batterysize\n",
        "\n",
        "  def fuel_type(self):\n",
        "    return \"Electric Charge\"\n",
        "\n",
        "\n",
        "my_electricCar = ElectricCar(\"tesla\", \"model S\", \"83km/hr\")\n",
        "#print(my_electricCar.get_model())\n",
        "\n",
        "# we cannot accedd the method get_model (), as we get include the property decortors in the method which donot allow the access of the varaible.\n",
        "\n",
        "print(\"#--------------------------------------------------\")\n",
        "\n",
        "# Access the model using the property\n",
        "print(my_electricCar.get_model)\n",
        "\n",
        "print(\"#--------------------------------------------------\")\n",
        "\n",
        " # Use get_model() to access private attribute\n",
        "print(my_electricCar.get_brand())\n",
        "print(my_electricCar.batterysize)\n",
        "print(my_electricCar.fuel_type())\n",
        "\n",
        "\n",
        "safari = Car(\"tata\" , \"safari\")\n",
        "print(safari.fuel_type())\n",
        "\n",
        "Car(\"Toyota\", \"Carmy\")\n",
        "Car(\"Honda\", \"Accord\")\n",
        "\n",
        "print(Car.total_car)\n",
        "# Call static methods directly from the class\n",
        "print(Car.general_desciption()) # Fix the typo here\n",
        "\n",
        "print(\"#--------------------------------------------------\")\n",
        "\n",
        "my_tesla = ElectricCar(\"Nissan\", \" altilmate\", \"1000km/hr\")\n",
        "\n",
        "print(isinstance(my_tesla, Car))\n",
        "print(isinstance(my_tesla, ElectricCar))\n",
        "\n"
      ],
      "cell_type": "code",
      "metadata": {
        "colab": {
          "base_uri": "https://localhost:8080/"
        },
        "outputId": "29161032-6a0a-496f-d188-719bc41dd491",
        "id": "X93mE-lRr4-G"
      },
      "execution_count": 41,
      "outputs": [
        {
          "output_type": "stream",
          "name": "stdout",
          "text": [
            "#--------------------------------------------------\n",
            "model S\n",
            "#--------------------------------------------------\n",
            "tesla\n",
            "83km/hr\n",
            "Electric Charge\n",
            "Patrol\n",
            "4\n",
            "Cars are means of transport\n",
            "#--------------------------------------------------\n",
            "True\n",
            "True\n"
          ]
        }
      ]
    },
    {
      "cell_type": "markdown",
      "source": [
        "Multiple Inheritance"
      ],
      "metadata": {
        "id": "E1CJ6fU9toXN"
      }
    },
    {
      "cell_type": "markdown",
      "source": [
        "Problem\n",
        "\n",
        "\n",
        "create two classes battery and engine and let the elctric car class inherit from both, demonstrating multiple inheritance"
      ],
      "metadata": {
        "id": "yKlf5Auutskd"
      }
    },
    {
      "cell_type": "code",
      "source": [],
      "metadata": {
        "id": "jrbWVIDstryK"
      },
      "execution_count": 41,
      "outputs": []
    },
    {
      "source": [
        "class Car:\n",
        "\n",
        "  total_car = 0\n",
        "\n",
        "  def __init__(self, __brand, __model):\n",
        "    self.__brand = __brand #private attributes\n",
        "    self.__model = __model\n",
        "    Car.total_car += 1\n",
        "\n",
        "  def get_brand(self):\n",
        "    return self.__brand\n",
        "\n",
        "  def get_model(self):\n",
        "    return self.__model\n",
        "\n",
        "  def fuel_type(self):\n",
        "    return \"Patrol\"\n",
        "\n",
        "class ElectricCar(Car):\n",
        "\n",
        "  def __init__(self, brand, model, batterysize): # Add a space between 'def' and '__init__'\n",
        "    super().__init__(brand, model)\n",
        "    self.batterysize = batterysize\n",
        "\n",
        "  def fuel_type(self):\n",
        "    return \"Electric Charge\"\n",
        "\n",
        "\n",
        "my_electricCar = ElectricCar(\"tesla\", \"model S\", \"83km/hr\")\n",
        "print(my_electricCar.get_model())\n",
        " # Use get_model() to access private attribute\n",
        "print(my_electricCar.get_brand())\n",
        "print(my_electricCar.batterysize)\n",
        "print(my_electricCar.fuel_type())\n",
        "\n",
        "\n",
        "safari = Car(\"tata\" , \"safari\")\n",
        "print(safari.fuel_type())\n",
        "\n",
        "Car(\"Toyota\", \"Carmy\")\n",
        "Car(\"Honda\", \"Accord\")\n",
        "\n",
        "print(Car.total_car)\n",
        "\n",
        "\n",
        "\n",
        "print(\"#--------------------------------------------------\")\n",
        "\n",
        "class Battery:\n",
        "  def battery_info(self):\n",
        "    return \"this is battery\"\n",
        "\n",
        "class Engine:\n",
        "  def engine_info(self):\n",
        "    return \"this is engine\"\n",
        "\n",
        "class ElectricCarTwo(Battery, Engine, Car):\n",
        "  pass\n",
        "\n",
        "my_new_tesla = ElectricCarTwo(\"Chrysler \", \"200\")\n",
        "print(my_new_tesla.engine_info())\n",
        "print(my_new_tesla.battery_info())"
      ],
      "cell_type": "code",
      "metadata": {
        "colab": {
          "base_uri": "https://localhost:8080/"
        },
        "outputId": "b5477a0f-fe0f-4c3e-abd3-90f20d2779b8",
        "id": "JZ97tjyPuIVV"
      },
      "execution_count": 43,
      "outputs": [
        {
          "output_type": "stream",
          "name": "stdout",
          "text": [
            "model S\n",
            "tesla\n",
            "83km/hr\n",
            "Electric Charge\n",
            "Patrol\n",
            "4\n",
            "#--------------------------------------------------\n",
            "this is engine\n",
            "this is battery\n"
          ]
        }
      ]
    }
  ]
}