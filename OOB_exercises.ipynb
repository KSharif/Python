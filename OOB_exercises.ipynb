{
  "nbformat": 4,
  "nbformat_minor": 0,
  "metadata": {
    "colab": {
      "provenance": [],
      "authorship_tag": "ABX9TyPrqkjmeJGRsDporSa1Op/M",
      "include_colab_link": true
    },
    "kernelspec": {
      "name": "python3",
      "display_name": "Python 3"
    },
    "language_info": {
      "name": "python"
    }
  },
  "cells": [
    {
      "cell_type": "markdown",
      "metadata": {
        "id": "view-in-github",
        "colab_type": "text"
      },
      "source": [
        "<a href=\"https://colab.research.google.com/github/KSharif/Python/blob/main/OOB_exercises.ipynb\" target=\"_parent\"><img src=\"https://colab.research.google.com/assets/colab-badge.svg\" alt=\"Open In Colab\"/></a>"
      ]
    },
    {
      "cell_type": "markdown",
      "source": [
        "Create a Bank Account Class\n",
        "\n",
        "\n",
        "\n",
        "Create a class called BankAccount that simulates a simple bank account.\n",
        "\n",
        "Requirements:\n",
        "\n",
        "The class should have attributes for the account holder's name, balance, and account number.\n",
        "\n",
        "\n",
        "Implement methods for:\n",
        "\n",
        "\n",
        "Deposit: Adds money to the balance.\n",
        "\n",
        "\n",
        "Withdraw: Deducts money from the balance (with a check to prevent overdrafts).\n",
        "\n",
        "Get Balance: Returns the current balance.\n",
        "\n",
        "Account Details: Prints the account holder’s name, account number, and balance.\n"
      ],
      "metadata": {
        "id": "OyHkAYWB0Rsh"
      }
    },
    {
      "source": [
        "class Bank_Acc:\n",
        "\n",
        "  #acc_name\n",
        "  #acc_balance\n",
        "  #acc_Number\n",
        "\n",
        "  def __init__ (self, acc_name, acc_balance, acc_Number): # Removed double underscore before acc_balance and acc_Number\n",
        "    self.acc_name = acc_name\n",
        "    self.__acc_balance = acc_balance # private attributes\n",
        "    self.__acc_Number = acc_Number\n",
        "\n",
        "  def get_acc_name(self):\n",
        "    return self.acc_name # Removed double underscore before acc_name\n",
        "\n",
        "  @property\n",
        "  def get_Account_balance(self):\n",
        "    return self.__acc_balance\n",
        "\n",
        "  @property\n",
        "  def get_Account_number(self):\n",
        "    return self.__acc_Number\n",
        "\n",
        "  def get_deposit(self):\n",
        "    print(\"current amount\" , self.__acc_balance)\n",
        "    x = float(input(\"enter the number\"))\n",
        "    add = float(self.__acc_Number) + x\n",
        "    return print (add)\n",
        "\n",
        "\n",
        "\n",
        "myAccountDetails = Bank_Acc(\"kazi\",\"100000\",\"987654\" )\n",
        "print(myAccountDetails.get_acc_name())\n",
        "print(myAccountDetails.get_Account_balance)\n",
        "print(myAccountDetails.get_Account_number)\n",
        "print(myAccountDetails.get_deposit())\n",
        "\n",
        "\n",
        "\n"
      ],
      "cell_type": "code",
      "metadata": {
        "colab": {
          "base_uri": "https://localhost:8080/"
        },
        "id": "A98xuPH54l_h",
        "outputId": "04dce499-1a20-4d79-daf5-875b6a5d97a1"
      },
      "execution_count": 16,
      "outputs": [
        {
          "output_type": "stream",
          "name": "stdout",
          "text": [
            "kazi\n",
            "100000\n",
            "987654\n",
            "current amount 100000\n",
            "enter the number1\n",
            "987655.0\n",
            "None\n"
          ]
        }
      ]
    },
    {
      "source": [
        "class Bank_Acc:\n",
        "\n",
        "  #acc_name\n",
        "  #acc_balance\n",
        "  #acc_Number\n",
        "\n",
        "  def __init__ (self, acc_name, acc_balance, acc_Number):\n",
        "    self.acc_name = acc_name\n",
        "    self.__acc_balance = acc_balance\n",
        "    self.__acc_Number = acc_Number\n",
        "\n",
        "  def get_acc_name(self):\n",
        "    return self.acc_name\n",
        "\n",
        "  @property\n",
        "  def get_Account_balance(self):\n",
        "    return self.__acc_balance\n",
        "\n",
        "  @property\n",
        "  def get_Account_number(self):\n",
        "    return self.__acc_Number\n",
        "\n",
        "  def get_deposit(self):\n",
        "    print(\"current amount\" , self.__acc_balance) # Access private attribute through self\n",
        "    x = float(input(\"enter the deposit ammount number\"))\n",
        "    add = float(self.__acc_balance) + x\n",
        "    return print (add)\n",
        "\n",
        "\n",
        "  def get_withdraw(self):\n",
        "    print(\"current amount\" , self.__acc_balance)\n",
        "     # Access private attribute through self\n",
        "    x = float(input(\"enter the withdraw ammount number\"))\n",
        "    sub = float(self.__acc_balance) - x\n",
        "    return print (sub)\n",
        "\n",
        "\n",
        "\n",
        "\n",
        "\n",
        "myAccountDetails = Bank_Acc(\"kazi\",\"100000\",\"987654\" )\n",
        "print(\"#--------------------------------------------------\")\n",
        "print(myAccountDetails.get_acc_name())\n",
        "print(myAccountDetails.get_Account_balance)\n",
        "print(myAccountDetails.get_Account_number)\n",
        "\"\"\"\n",
        "print(\"#--------------------------------------------------\")\n",
        "print(myAccountDetails.get_deposit())\n",
        "print(myAccountDetails.get_withdraw())\n",
        "\n",
        "\n",
        "\n"
      ],
      "cell_type": "code",
      "metadata": {
        "colab": {
          "base_uri": "https://localhost:8080/"
        },
        "id": "kPLcFTdn7GUe",
        "outputId": "3fe089e6-4e5b-4cd5-e34f-74e1591033a9"
      },
      "execution_count": 22,
      "outputs": [
        {
          "output_type": "stream",
          "name": "stdout",
          "text": [
            "#--------------------------------------------------\n",
            "kazi\n",
            "100000\n",
            "987654\n",
            "#--------------------------------------------------\n",
            "current amount 100000\n",
            "enter the deposit ammount number7000\n",
            "107000.0\n",
            "None\n",
            "current amount 100000\n",
            "enter the withdraw ammount number2000\n",
            "98000.0\n",
            "None\n"
          ]
        }
      ]
    },
    {
      "cell_type": "markdown",
      "source": [
        "Exercise 3: Create a Library Management System\n",
        "\n",
        "\n",
        "Create a class called Book and another class called Library.\n",
        "\n",
        "Requirements for Book Class:\n",
        "\n",
        "The class should have attributes for the book's title, author, and whether it is borrowed (a boolean).\n",
        "\n",
        "Requirements for Library Class:\n",
        "\n",
        "The class should have a list of books.\n",
        "\n",
        "Implement methods for:\n",
        "\n",
        "\n",
        "Add Book: Adds a book to the library.\n",
        "\n",
        "Remove Book: Removes a book from the library.\n",
        "\n",
        "Borrow Book: Marks a book as borrowed.\n",
        "\n",
        "Return Book: Marks a book as returned.\n",
        "\n",
        "List Books: Lists all books in the library with their status."
      ],
      "metadata": {
        "id": "gXCV9Bt99GDx"
      }
    },
    {
      "source": [
        "class Library:  # Define the Library class\n",
        "    def __init__(self):\n",
        "        self.books = []\n",
        "\n",
        "    def add_book(self, book):\n",
        "        self.books.append(book)\n",
        "\n",
        "    def borrow_book(self, title):\n",
        "        for book in self.books:\n",
        "            if book.title == title:\n",
        "                book.borrowed = True\n",
        "                return\n",
        "        print(\"Book not found.\")\n",
        "\n",
        "    def list_books(self):\n",
        "        for book in self.books:\n",
        "            print(f\"Title: {book.title}, Author: {book.author}, Borrowed: {book.borrowed}\")\n",
        "\n",
        "class Book:  # Define the Book class\n",
        "    def __init__(self, title, author):\n",
        "        self.title = title\n",
        "        self.author = author\n",
        "        self.borrowed = False\n",
        "\n",
        "# Example usage:\n",
        "library = Library()  # Create an instance of the Library class\n",
        "book1 = Book(\"The Great Gatsby\", \"F. Scott Fitzgerald\")\n",
        "book2 = Book(\"1984\", \"George Orwell\")\n",
        "\n",
        "library.add_book(book1)\n",
        "library.add_book(book2)\n",
        "\n",
        "library.borrow_book(\"1984\")\n",
        "library.list_books()"
      ],
      "cell_type": "code",
      "metadata": {
        "id": "591BtNDQ_bol"
      },
      "execution_count": null,
      "outputs": []
    },
    {
      "cell_type": "code",
      "source": [
        "class Book:\n",
        "  def __init__ (self, title, author, status):\n",
        "    self.title = title\n",
        "    self.author = author\n",
        "    self.status = status\n",
        "\n",
        "  def get_title(self):\n",
        "    return self.title\n",
        "\n",
        "  def get_author(self):\n",
        "    return self.author\n",
        "\n",
        "  def get_status(self):\n",
        "    return self.status\n",
        "\n",
        "\n",
        "\n",
        "class Library(Book):\n",
        "\n",
        "  def __init__(self, title, author, status):\n",
        "    super().__init__(title, author, status)\n",
        "\n",
        "book1 = Library(\"tom li\", \" tom\", \" borrowed\")\n",
        "print(book1.get_status())"
      ],
      "metadata": {
        "colab": {
          "base_uri": "https://localhost:8080/"
        },
        "id": "ODFDNojQ5DBO",
        "outputId": "412a0587-ee9a-47c3-e75b-272dbde947b0"
      },
      "execution_count": 25,
      "outputs": [
        {
          "output_type": "stream",
          "name": "stdout",
          "text": [
            " borrowed\n"
          ]
        }
      ]
    },
    {
      "cell_type": "markdown",
      "source": [
        "Create a class called Employee.\n",
        "\n",
        "Requirements:\n",
        "\n",
        "The class should have attributes for the employee's name, position, and salary.\n",
        "\n",
        "\n",
        "Implement methods for:\n",
        "\n",
        "Give Raise: Increases the salary by a certain percentage.\n",
        "\n",
        "Change Position: Changes the employee's position.\n",
        "\n",
        "Employee Details: Prints the employee's name, position, and salary."
      ],
      "metadata": {
        "id": "wzxASeMoD_uK"
      }
    },
    {
      "cell_type": "code",
      "source": [
        "class Employee:\n",
        "  def __init__(self, name, position, salary):\n",
        "    self.name = name\n",
        "    self.position = position\n",
        "    self.salary = salary\n",
        "\n",
        "  def get_name(self):\n",
        "    return self.name\n",
        "\n",
        "  def get_position(self):\n",
        "    return self.position\n",
        "\n",
        "  def get_salary(self):\n",
        "    return self.salary\n",
        "\n",
        "  def get_employee_details(self):\n",
        "    return f\"Name: {self.name}, Position: {self.position}, Salary: {self.salary}\"\n",
        "\n",
        "  def give_raise(self, raise_percentage):\n",
        "    x = float(input(\"enter the raise percentage\"))\n",
        "    y =float(self.salary)\n",
        "    add = (y * (x / 100)) + y\n",
        "    return print(add)\n",
        "\n",
        "\n",
        "\n",
        "\n",
        "  def change_position(self, new_position):\n",
        "    x= input(\"enter the new position\")\n",
        "    self.position = x\n",
        "    return print(self.position ,\" changed to \", x)\n",
        "\n",
        "\n",
        "employer1 = Employee(\"kazi\", \"manager\", \"100000\")\n",
        "print(employer1.get_employee_details())\n",
        "print(employer1.give_raise(0))\n",
        "print(employer1.change_position(\"\"))\n",
        "\n",
        "\"\"\"\n",
        "print(\"#--------------------------------------------------\")\n",
        "employer2 = Employee(\"rimu\", \"senior\", \"232323\")\n",
        "print(employer2.get_employee_details())\n",
        "print(employer2.give_raise(0))\n",
        "print(employer2.change_position(\"\"))\n",
        "\n",
        "\"\"\"\n",
        "\n"
      ],
      "metadata": {
        "colab": {
          "base_uri": "https://localhost:8080/",
          "height": 196
        },
        "id": "Dzvt13-AEFho",
        "outputId": "f44d4d64-7018-437e-9072-5681fc13ea12"
      },
      "execution_count": 40,
      "outputs": [
        {
          "output_type": "stream",
          "name": "stdout",
          "text": [
            "Name: kazi, Position: manager, Salary: 100000\n",
            "enter the raise percentage9\n",
            "109000.0\n",
            "None\n",
            "enter the new positionceo\n",
            "ceo  changed to  ceo\n",
            "None\n"
          ]
        },
        {
          "output_type": "execute_result",
          "data": {
            "text/plain": [
              "'\\nprint(\"#--------------------------------------------------\")\\nemployer2 = Employee(\"rimu\", \"senior\", \"232323\")\\nprint(employer2.get_employee_details())\\nprint(employer2.give_raise(0))\\nprint(employer2.change_position(\"\"))\\n\\n'"
            ],
            "application/vnd.google.colaboratory.intrinsic+json": {
              "type": "string"
            }
          },
          "metadata": {},
          "execution_count": 40
        }
      ]
    }
  ]
}