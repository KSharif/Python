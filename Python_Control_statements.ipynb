{
  "nbformat": 4,
  "nbformat_minor": 0,
  "metadata": {
    "colab": {
      "provenance": [],
      "authorship_tag": "ABX9TyPGsEzkK35cBmXW5SzrYjYn",
      "include_colab_link": true
    },
    "kernelspec": {
      "name": "python3",
      "display_name": "Python 3"
    },
    "language_info": {
      "name": "python"
    }
  },
  "cells": [
    {
      "cell_type": "markdown",
      "metadata": {
        "id": "view-in-github",
        "colab_type": "text"
      },
      "source": [
        "<a href=\"https://colab.research.google.com/github/KSharif/Python/blob/main/Python_Control_statements.ipynb\" target=\"_parent\"><img src=\"https://colab.research.google.com/assets/colab-badge.svg\" alt=\"Open In Colab\"/></a>"
      ]
    },
    {
      "cell_type": "code",
      "execution_count": 3,
      "metadata": {
        "colab": {
          "base_uri": "https://localhost:8080/"
        },
        "id": "tzBKGrlkVuDw",
        "outputId": "99b2c71e-0dcf-4be1-e073-83e358405ee9"
      },
      "outputs": [
        {
          "output_type": "stream",
          "name": "stdout",
          "text": [
            "Control Statement\n"
          ]
        }
      ],
      "source": [
        "print ( \"Control Statement\")"
      ]
    },
    {
      "cell_type": "markdown",
      "source": [
        "Control flow in Python allows you to direct the execution of your code based on certain conditions or repeat code blocks. The main control flow tools are conditional statements (if, elif, else) and loops (for, while). Let’s break these down with examples.\n",
        "\n",
        "1. Conditional Statements\n",
        "Conditional statements help you make decisions in your code.\n",
        "\n",
        "if, elif, else\n",
        "if Statement: Runs a block of code if the condition is true.\n",
        "elif Statement: Checks another condition if the previous conditions were false.\n",
        "else Statement: Runs a block of code if all the above conditions were false."
      ],
      "metadata": {
        "id": "y5SHW3rJV9F-"
      }
    },
    {
      "cell_type": "markdown",
      "source": [
        "**Example 1: Simple if Statement**"
      ],
      "metadata": {
        "id": "CHqz7YMWWDhJ"
      }
    },
    {
      "cell_type": "code",
      "source": [
        "age = 18\n",
        "if age >= 18:\n",
        " print(\"you are a adult\")"
      ],
      "metadata": {
        "colab": {
          "base_uri": "https://localhost:8080/"
        },
        "id": "2tHTmA5RV_qE",
        "outputId": "d2c0e536-fcc4-4407-e367-fae63c6ccde6"
      },
      "execution_count": 4,
      "outputs": [
        {
          "output_type": "stream",
          "name": "stdout",
          "text": [
            "you are a adult\n"
          ]
        }
      ]
    },
    {
      "cell_type": "markdown",
      "source": [
        "Explanation: Here, if age is greater than or equal to 18, the message \"You are an adult.\" will be printed.\n"
      ],
      "metadata": {
        "id": "MdXvt8XiW3ev"
      }
    },
    {
      "cell_type": "markdown",
      "source": [
        "\n",
        "**Example 2: if, elif, else Chain**"
      ],
      "metadata": {
        "id": "4y8UOI3YXBNI"
      }
    },
    {
      "cell_type": "code",
      "source": [
        "score = 85\n",
        "\n",
        "if score >= 90:\n",
        "    print(\"Grade: A\")\n",
        "elif score >= 80:\n",
        "    print(\"Grade: B\")\n",
        "elif score >= 70:\n",
        "    print(\"Grade: C\")\n",
        "else:\n",
        "    print(\"Grade: F\")"
      ],
      "metadata": {
        "colab": {
          "base_uri": "https://localhost:8080/"
        },
        "id": "7P7EvoFYXSYQ",
        "outputId": "8df39df2-4135-4bf6-ef40-7ba3444a740a"
      },
      "execution_count": 5,
      "outputs": [
        {
          "output_type": "stream",
          "name": "stdout",
          "text": [
            "Grade: B\n"
          ]
        }
      ]
    },
    {
      "cell_type": "markdown",
      "source": [
        "Explanation: The program checks the score against multiple conditions. If the score is 85, the output will be \"Grade: B\"."
      ],
      "metadata": {
        "id": "SoZLc5GgXiUL"
      }
    },
    {
      "cell_type": "markdown",
      "source": [
        "** Max of Three Numbers**"
      ],
      "metadata": {
        "id": "Qp_FWiwbeYoa"
      }
    },
    {
      "cell_type": "markdown",
      "source": [
        "\n",
        "\n",
        "Write a program that takes three numbers as input and prints the largest of the three.\n",
        "\n",
        "Example:\n",
        "\n",
        "Input: 5, 12, 9\n",
        "Output: The largest number is 12"
      ],
      "metadata": {
        "id": "gFvHHNPAYkUh"
      }
    },
    {
      "cell_type": "code",
      "source": [
        "try:\n",
        "\n",
        "  a = float(input())\n",
        "  b = float(input())\n",
        "  c = float(input())\n",
        "\n",
        "  if a >= b and a >= c:\n",
        "    print(\"The largest number is\", a)\n",
        "  elif b >= a and b >= c:\n",
        "    print(\"The largest number is\", b)\n",
        "  else:\n",
        "    print(\"The largest number is\", c)\n",
        "\n",
        "\n",
        "    print(\"The largest number is, max(a, b, c): /n\")\n",
        "\n",
        "except ValueError:\n",
        "    print(\"Invalid input. Please enter valid numbers.\")\n"
      ],
      "metadata": {
        "colab": {
          "base_uri": "https://localhost:8080/"
        },
        "id": "bYKPAfOiYpg0",
        "outputId": "2a8edb37-63af-42ef-fbf1-4c0cadc81e33"
      },
      "execution_count": 15,
      "outputs": [
        {
          "output_type": "stream",
          "name": "stdout",
          "text": [
            "4,2,1\n",
            "Invalid input. Please enter valid numbers.\n"
          ]
        }
      ]
    },
    {
      "cell_type": "markdown",
      "source": [
        "Try-Except Block:\n",
        "\n",
        "The try block contains the code that might cause an error, such as converting input to a float.\n",
        "If a ValueError occurs (e.g., the user enters \"abc\" instead of a number), the except block catches the error and prints a message like \"Please enter valid numbers.\"\n",
        "Input Handling:\n",
        "\n",
        "This ensures that if the user accidentally inputs something that isn't a number, the program won't crash. Instead, it will prompt the user with an error message."
      ],
      "metadata": {
        "id": "7y1nF59WeR6y"
      }
    },
    {
      "cell_type": "code",
      "source": [
        "\n",
        "    # Input: Three numbers\n",
        "    num1 = float(input(\"Enter the first number: \"))\n",
        "    num2 = float(input(\"Enter the second number: \"))\n",
        "    num3 = float(input(\"Enter the third number: \"))\n",
        "\n",
        "    # Determine the largest number\n",
        "    if num1 >= num2 and num1 >= num3:\n",
        "        largest = num1\n",
        "    elif num2 >= num1 and num2 >= num3:\n",
        "        largest = num2\n",
        "    else:\n",
        "        largest = num3\n",
        "\n",
        "    # Output the largest number\n",
        "    print(f\"The largest number is {largest}\")\n",
        "\n"
      ],
      "metadata": {
        "colab": {
          "base_uri": "https://localhost:8080/"
        },
        "id": "fsPx1pdRd44k",
        "outputId": "e39dfeef-5a83-4a99-d8a7-7714887c2929"
      },
      "execution_count": 18,
      "outputs": [
        {
          "output_type": "stream",
          "name": "stdout",
          "text": [
            "Enter the first number: 7\n",
            "Enter the second number: 0\n",
            "Enter the third number: 8\n",
            "The largest number is 8.0\n"
          ]
        }
      ]
    },
    {
      "cell_type": "markdown",
      "source": [
        "Exercise 3: Leap Year Checker"
      ],
      "metadata": {
        "id": "O6882DIZehTH"
      }
    },
    {
      "cell_type": "markdown",
      "source": [
        "Write a program that checks if a given year is a leap year. A year is a leap year if:\n",
        "\n",
        "It is divisible by 4,\n",
        "but not divisible by 100,\n",
        "unless it is also divisible by 400.\n",
        "Example:\n",
        "\n",
        "Input: 2020\n",
        "\n",
        "Output: 2020 is a leap year\n",
        "\n",
        "Input: 1900\n",
        "\n",
        "Output: 1900 is not a leap year"
      ],
      "metadata": {
        "id": "JN6rVGGsemJj"
      }
    },
    {
      "cell_type": "code",
      "source": [
        "year = int(input(\"Enter a year: \"))\n",
        "\n",
        "\n",
        "if year % 4 and year % 100 or year % 400:\n",
        "  print(year, \"is a leap year\")\n",
        "else:\n",
        "  print(year, \"is not a leap year\")\n"
      ],
      "metadata": {
        "colab": {
          "base_uri": "https://localhost:8080/"
        },
        "id": "sV6dJTy2eqeG",
        "outputId": "6893d6a2-430c-4a9c-ec9e-a76dadf798a3"
      },
      "execution_count": 20,
      "outputs": [
        {
          "output_type": "stream",
          "name": "stdout",
          "text": [
            "Enter a year: 2020\n",
            "2020 is a leap year\n"
          ]
        }
      ]
    },
    {
      "cell_type": "markdown",
      "source": [
        "Exercise 4: Simple Calculator"
      ],
      "metadata": {
        "id": "llrWBO_TgIHu"
      }
    },
    {
      "cell_type": "markdown",
      "source": [
        "Write a program that takes two numbers and an operator (+, -, *, /) as input and performs the corresponding operation.\n",
        "\n",
        "Example:\n",
        "\n",
        "Input: 10, 5, +\n",
        "\n",
        "Output: Result: 15\n",
        "\n",
        "Input: 10, 5, /\n",
        "\n",
        "Output: Result: 2.0"
      ],
      "metadata": {
        "id": "wd33NIYFgIsD"
      }
    },
    {
      "cell_type": "code",
      "source": [
        "a = float(input())\n",
        "b = float(input())\n",
        "operator = input()\n",
        "\n",
        "if operator == \"+\":\n",
        "  print(a + b)\n",
        "elif operator == \"-\":\n",
        "  print(a - b)\n",
        "elif operator == \"*\":\n",
        "  print(a * b)\n",
        "elif operator == \"/\":\n",
        "  print(a / b)"
      ],
      "metadata": {
        "colab": {
          "base_uri": "https://localhost:8080/"
        },
        "id": "laOuD4rxgHfk",
        "outputId": "4da503c0-9d33-44b2-d154-04dca2b2f4c0"
      },
      "execution_count": 21,
      "outputs": [
        {
          "output_type": "stream",
          "name": "stdout",
          "text": [
            "10\n",
            "5\n",
            "+\n",
            "15.0\n"
          ]
        }
      ]
    },
    {
      "cell_type": "code",
      "source": [
        "num1 = float(input(\"the first number:\"))\n",
        "num2 = float(input(\"the first number:\"))\n",
        "operator = input()\n",
        "\n",
        "if operator == \"+\":\n",
        "  print ( num1 + num2)\n",
        "elif operator == \"-\":\n",
        "  print ( num1 - num2)\n",
        "elif operator == \"*\":\n",
        "  print ( num1 * num2)\n",
        "elif operator == \"%\":\n",
        "  print ( num1 % num2)\n",
        "\n"
      ],
      "metadata": {
        "colab": {
          "base_uri": "https://localhost:8080/"
        },
        "id": "bGj-jb5Dgtqo",
        "outputId": "cbd21a1e-89e2-4a3d-962b-6618f807e244"
      },
      "execution_count": 24,
      "outputs": [
        {
          "output_type": "stream",
          "name": "stdout",
          "text": [
            "the first number:3\n",
            "the first number:1\n",
            "-\n",
            "2.0\n"
          ]
        }
      ]
    },
    {
      "cell_type": "markdown",
      "source": [
        "Exercise 5: Triangle Type Checker"
      ],
      "metadata": {
        "id": "KUf8xu8SiRDm"
      }
    },
    {
      "cell_type": "markdown",
      "source": [
        "Exercise 5: Triangle Type Checker\n",
        "Write a program that takes the lengths of three sides of a triangle and prints whether the triangle is equilateral, isosceles, or scalene.\n",
        "\n",
        "Equilateral: All three sides are equal.\n",
        "Isosceles: Two sides are equal.\n",
        "Scalene: All sides are different.\n",
        "Example:\n",
        "\n",
        "Input: 5, 5, 5\n",
        "\n",
        "Output: The triangle is equilateral\n",
        "\n",
        "Input: 5, 7, 5\n",
        "\n",
        "Output: The triangle is isosceles"
      ],
      "metadata": {
        "id": "j-zxWzzziUUX"
      }
    },
    {
      "cell_type": "code",
      "source": [
        "x = int(input(\"first side:\"))\n",
        "y = int(input(\"second side\"))\n",
        "z = int( input(\"third side:\"))\n",
        "\n",
        "if (x ==y and y==z):\n",
        "  print (\"equal\")\n",
        "elif (x == y and y != z) or (x == z and z != y):\n",
        "  print (\"Isosceles\")\n",
        "elif (x != y and y != z):\n",
        "  print (\"differenet\")\n",
        "\n",
        "\n",
        ""
      ],
      "metadata": {
        "colab": {
          "base_uri": "https://localhost:8080/"
        },
        "id": "BqU_VJoFibdQ",
        "outputId": "bb72e118-5160-4427-9c62-cd03ff84814b"
      },
      "execution_count": 34,
      "outputs": [
        {
          "output_type": "stream",
          "name": "stdout",
          "text": [
            "first side:5\n",
            "second side5\n",
            "third side:5\n",
            "equal\n"
          ]
        }
      ]
    },
    {
      "cell_type": "markdown",
      "source": [
        "Exerxise : Tempurate Checker\n"
      ],
      "metadata": {
        "id": "OFcMQNYKnlUb"
      }
    },
    {
      "cell_type": "markdown",
      "source": [
        "Write a program that converts a given temperature from Celsius to Fahrenheit or vice versa. The user should specify the conversion type.\n",
        "\n",
        "Formula:\n",
        "\n",
        "From Celsius to Fahrenheit:\n",
        "𝐹\n",
        "=\n",
        "9\n",
        "5\n",
        "𝐶\n",
        "+\n",
        "32\n",
        "F=\n",
        "5\n",
        "9\n",
        "​\n",
        " C+32\n",
        "From Fahrenheit to Celsius:\n",
        "𝐶\n",
        "=\n",
        "5\n",
        "9\n",
        "(\n",
        "𝐹\n",
        "−\n",
        "32\n",
        ")\n",
        "C=\n",
        "9\n",
        "5\n",
        "​\n",
        " (F−32)\n",
        "Example:\n",
        "\n",
        "Input: 0 (Celsius), C to F\n",
        "\n",
        "Output: 32°F\n",
        "\n",
        "Input: 32 (Fahrenheit), F to C\n",
        "\n",
        "Output: 0°C"
      ],
      "metadata": {
        "id": "nVkJ70WrlKKY"
      }
    },
    {
      "cell_type": "code",
      "source": [
        "temp = float(input(\"Enter the temperature: \"))\n",
        "unit = input(\"Enter the unit (C for Celsius, F for Fahrenheit): \")\n",
        "\n",
        "if unit == \"C\":\n",
        "    fahrenheit = (temp * 9/5) + 32\n",
        "    print(f\"{temp}°C is equal to {fahrenheit}°F\")\n",
        "elif unit == \"F\":\n",
        "    celsius = (temp - 32) * 5/9\n",
        "    print(f\"{temp}°F is equal to {celsius}°C\")\n",
        "\n"
      ],
      "metadata": {
        "colab": {
          "base_uri": "https://localhost:8080/"
        },
        "id": "gkapXM5UkD12",
        "outputId": "f47219b4-bdde-43ba-d4b6-6f6977f7ad2c"
      },
      "execution_count": 39,
      "outputs": [
        {
          "output_type": "stream",
          "name": "stdout",
          "text": [
            "Enter the temperature: 2\n",
            "Enter the unit (C for Celsius, F for Fahrenheit): C\n",
            "2.0°C is equal to 35.6°F\n"
          ]
        }
      ]
    },
    {
      "cell_type": "markdown",
      "source": [
        "Exercise 7: BMI Calculator\n",
        "\n",
        "Write a program that calculates the Body Mass Index (BMI) based on a person's weight and height and classifies them as underweight, normal weight, overweight, or obese.\n",
        "\n",
        "BMI = weight (kg) / height^2 (m^2)\n",
        "Underweight: BMI < 18.5\n",
        "Normal weight: 18.5 ≤ BMI < 24.9\n",
        "Overweight: 25 ≤ BMI < 29.9\n",
        "Obese: BMI ≥ 30\n",
        "Example:\n",
        "\n",
        "Input: weight = 70, height = 1.75\n",
        "Output: Your BMI is 22.86, which is Normal weight"
      ],
      "metadata": {
        "id": "72ZkG0hDnhSN"
      }
    },
    {
      "cell_type": "code",
      "source": [
        "h = float(input(\"Enter your height in meters: \"))\n",
        "w = float(input(\"Enter your weight in kilograms: \"))\n",
        "\n",
        "bmi = w / (h**2)\n",
        "print (bmi)\n",
        "\n",
        "if bmi < 18.5:\n",
        "  print(\"Underweight\")\n",
        "elif 18.5 <= bmi < 24.9:\n",
        "  print(\"Normal weight\")\n",
        "elif 25 <= bmi < 29.9:\n",
        "  print(\"Overweight\")\n",
        "else:\n",
        "  print(\"Obese\")"
      ],
      "metadata": {
        "colab": {
          "base_uri": "https://localhost:8080/"
        },
        "id": "_9DJhLokndD-",
        "outputId": "73e1b3ef-7077-4f21-c428-76d7a8c23935"
      },
      "execution_count": 46,
      "outputs": [
        {
          "output_type": "stream",
          "name": "stdout",
          "text": [
            "Enter your height in meters: 0.0511\n",
            "Enter your weight in kilograms: 117\n",
            "44806.813699396065\n",
            "Obese\n"
          ]
        }
      ]
    },
    {
      "cell_type": "markdown",
      "source": [
        "Exercise 8: Simple Login System\n",
        "\n",
        "\n",
        "Write a program that takes a username and password as input and checks if they match predefined values. If both match, print \"Access granted\"; otherwise, print \"Access denied\".\n",
        "\n",
        "Example:\n",
        "\n",
        "Input: username: admin, password: 1234\n",
        "\n",
        "Output: Access granted\n",
        "\n",
        "Input: username: user, password: 1234\n",
        "\n",
        "Output: Access denied\n",
        "\n"
      ],
      "metadata": {
        "id": "j9lF9tuPqGi1"
      }
    },
    {
      "cell_type": "code",
      "source": [
        "username = input(\"Enter your username: \")\n",
        "password = input(\"Enter your password: \")\n",
        "\n",
        "if username == \"admin\" and password == \"1234\":\n",
        "  print(\"Access granted\")\n",
        "else:\n",
        "  print(\"Access denied\")"
      ],
      "metadata": {
        "colab": {
          "base_uri": "https://localhost:8080/"
        },
        "id": "ik5GFE4lqGOU",
        "outputId": "8db23f5a-f92c-47ad-ad80-942d7f9d5b56"
      },
      "execution_count": 48,
      "outputs": [
        {
          "output_type": "stream",
          "name": "stdout",
          "text": [
            "Enter your username: admin\n",
            "Enter your password: 1234\n",
            "Access granted\n"
          ]
        }
      ]
    },
    {
      "cell_type": "markdown",
      "source": [
        "Exercise 9: Weekday Checker"
      ],
      "metadata": {
        "id": "FiuksndJrAhI"
      }
    },
    {
      "cell_type": "markdown",
      "source": [
        "Write a program that takes a number between 1 and 7 and prints the corresponding day of the week.\n",
        "\n",
        "1 = Monday, 2 = Tuesday, ..., 7 = Sunday\n",
        "Example:\n",
        "\n",
        "Input: 3\n",
        "Output: Wednesday"
      ],
      "metadata": {
        "id": "yPlumn0Uq7et"
      }
    },
    {
      "cell_type": "code",
      "source": [
        "user = int(input(\"Enter a number between 1 and 7: \"))\n",
        "\n",
        "if user == 1:\n",
        "  print(\"Monday\")\n",
        "elif user == 2:\n",
        "  print(\"Tuesday\")\n",
        "elif user == 3:\n",
        "  print(\"Wednesday\")\n",
        "elif user == 4:\n",
        "  print(\"Thursday\")\n",
        "elif user == 5:\n",
        "  print(\"Friday\")\n",
        "elif user == 6:\n",
        "  print(\"Saturday\")\n",
        "elif user == 7:\n",
        "  print(\"Sunday\")"
      ],
      "metadata": {
        "colab": {
          "base_uri": "https://localhost:8080/"
        },
        "id": "sCsrOVspq6Dl",
        "outputId": "1fb7da35-9ea4-4e14-b033-06f61fe7a891"
      },
      "execution_count": 49,
      "outputs": [
        {
          "output_type": "stream",
          "name": "stdout",
          "text": [
            "Enter a number between 1 and 7: 3\n",
            "Wednesday\n"
          ]
        }
      ]
    },
    {
      "cell_type": "markdown",
      "source": [
        "Exercise 10: Even or Odd\n",
        "\n",
        "\n",
        "Write a program that checks if a given integer is even or odd.\n",
        "\n",
        "Example:\n",
        "\n",
        "Input: 42\n",
        "\n",
        "Output: 42 is even\n",
        "\n",
        "Input: 17\n",
        "\n",
        "Output: 17 is odd"
      ],
      "metadata": {
        "id": "2t3tlou7rcTl"
      }
    },
    {
      "cell_type": "code",
      "source": [
        "num = int(input(\"Enter a number: \"))\n",
        "\n",
        "if num %2 == 0 :\n",
        "  print(num, \"is odd\")\n",
        "elif num %2 != 0:\n",
        "  print(num, \"is even\")"
      ],
      "metadata": {
        "colab": {
          "base_uri": "https://localhost:8080/"
        },
        "id": "vVuRn_j-rdy6",
        "outputId": "8d005e5a-0f1e-45c8-8cdd-78e832e0eb6b"
      },
      "execution_count": 53,
      "outputs": [
        {
          "output_type": "stream",
          "name": "stdout",
          "text": [
            "Enter a number: 233\n",
            "233 is even\n"
          ]
        }
      ]
    },
    {
      "cell_type": "markdown",
      "source": [
        "Exercise 11: Traffic Light Simulator\n",
        "\n",
        "\n",
        "Write a program that simulates a traffic light. Given the color (red, yellow, green), print what the driver should do:\n",
        "\n",
        "Red: \"Stop\"\n",
        "Yellow: \"Caution\"\n",
        "Green: \"Go\"\n",
        "Example:\n",
        "\n",
        "Input: Red\n",
        "Output: Stop"
      ],
      "metadata": {
        "id": "DkSO0GNcsMvd"
      }
    },
    {
      "cell_type": "code",
      "source": [
        "user = input(\"Enter the color of the traffic light: \")\n",
        "\n",
        "if user == \"red\":\n",
        "  print(\"Stop\")\n",
        "elif user == \"yellow\":\n",
        "  print(\"Caution\")\n",
        "elif user == \"green\":\n",
        "  print(\"Go\")"
      ],
      "metadata": {
        "colab": {
          "base_uri": "https://localhost:8080/"
        },
        "id": "WQ49ZcwvsOEW",
        "outputId": "756942ce-27f3-4e9a-9498-b1416c2b8470"
      },
      "execution_count": 55,
      "outputs": [
        {
          "output_type": "stream",
          "name": "stdout",
          "text": [
            "Enter the color of the traffic light: red\n",
            "Stop\n"
          ]
        }
      ]
    },
    {
      "cell_type": "markdown",
      "source": [
        "Exercise 12: Time of Day Greeting\n",
        "\n",
        "\n",
        "Write a program that takes the current hour (0-23) as input and prints a greeting:\n",
        "\n",
        "Morning (5-11): \"Good morning\"\n",
        "Afternoon (12-17): \"Good afternoon\"\n",
        "Evening (18-21): \"Good evening\"\n",
        "Night (22-4): \"Good night\""
      ],
      "metadata": {
        "id": "-u9mCH3aseI0"
      }
    },
    {
      "cell_type": "code",
      "source": [
        "user = int(input(\" enter the time:\"))\n",
        "\n",
        "if 5 <= user <= 11:\n",
        "  print (\"Good Morning\")\n",
        "\n",
        "elif 12 <= user <= 17:\n",
        "  print ( \"good afternoon\")\n",
        "elif 18 <= user <= 21:\n",
        "  print (\" good evening\")\n",
        "\n",
        "elif( 22 <= user <= 24 or 0 <= user <= 4):\n",
        "  print (\"good night\")"
      ],
      "metadata": {
        "colab": {
          "base_uri": "https://localhost:8080/"
        },
        "id": "ggUFQ9JSsjQo",
        "outputId": "cf66a9ab-0d9b-41cb-a4f6-0562be5b73a1"
      },
      "execution_count": 70,
      "outputs": [
        {
          "output_type": "stream",
          "name": "stdout",
          "text": [
            " enter the time:14\n",
            "good afternoon\n"
          ]
        }
      ]
    }
  ]
}