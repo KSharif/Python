{
  "nbformat": 4,
  "nbformat_minor": 0,
  "metadata": {
    "colab": {
      "provenance": [],
      "authorship_tag": "ABX9TyMPfMkEeTCvI4VO15oEgFse",
      "include_colab_link": true
    },
    "kernelspec": {
      "name": "python3",
      "display_name": "Python 3"
    },
    "language_info": {
      "name": "python"
    }
  },
  "cells": [
    {
      "cell_type": "markdown",
      "metadata": {
        "id": "view-in-github",
        "colab_type": "text"
      },
      "source": [
        "<a href=\"https://colab.research.google.com/github/KSharif/Python/blob/main/Loops_part_2.ipynb\" target=\"_parent\"><img src=\"https://colab.research.google.com/assets/colab-badge.svg\" alt=\"Open In Colab\"/></a>"
      ]
    },
    {
      "cell_type": "markdown",
      "source": [
        "Exercise 3:\n",
        "\n",
        " Count Vowels and Consonants in a String\n",
        "\n",
        "\n",
        "Write a Python program to count the number of vowels and consonants in a given string using a for loop.\n",
        "\n",
        "Example:\n",
        "\n",
        "Input: \"Hello World\"\n",
        "Output: Vowels = 3, Consonants = 7"
      ],
      "metadata": {
        "id": "AQQYykm3vAE1"
      }
    },
    {
      "cell_type": "code",
      "execution_count": 4,
      "metadata": {
        "colab": {
          "base_uri": "https://localhost:8080/"
        },
        "id": "vrlMpDkMu8AX",
        "outputId": "fa579ea5-9d9f-49c3-c108-748d1e779893"
      },
      "outputs": [
        {
          "output_type": "stream",
          "name": "stdout",
          "text": [
            "Enter a word: Hello World \n",
            "Vowels:  eoo\n",
            "Consonants:  Hll Wrld \n",
            "Vowels count:  3\n",
            "Consonants count:  9\n"
          ]
        }
      ],
      "source": [
        "x = str(input(\"Enter a word: \"))\n",
        "\n",
        "vowels = str(\"\")\n",
        "Consonants = str(\"\")\n",
        "\n",
        "for i in x:\n",
        "    if i in \"aeiouAEIOU\":\n",
        "        vowels += i\n",
        "    else:\n",
        "        Consonants += i\n",
        "\n",
        "print(\"Vowels: \", vowels)\n",
        "print(\"Consonants: \", Consonants)\n",
        "\n",
        "vowels_count = len(vowels)\n",
        "Consonants_count = len(Consonants)\n",
        "\n",
        "print(\"Vowels count: \", vowels_count)\n",
        "print(\"Consonants count: \", Consonants_count)\n"
      ]
    }
  ]
}